{
 "cells": [
  {
   "cell_type": "code",
   "execution_count": 5,
   "metadata": {},
   "outputs": [
    {
     "ename": "WebDriverException",
     "evalue": "Message: unknown error: cannot determine loading status\nfrom target frame detached\n  (Session info: chrome=107.0.5304.87)\nStacktrace:\n0   chromedriver                        0x0000000104d32a88 chromedriver + 4123272\n1   chromedriver                        0x0000000104cbe778 chromedriver + 3647352\n2   chromedriver                        0x0000000104980944 chromedriver + 248132\n3   chromedriver                        0x000000010496c764 chromedriver + 165732\n4   chromedriver                        0x000000010496b84c chromedriver + 161868\n5   chromedriver                        0x000000010496bcf0 chromedriver + 163056\n6   chromedriver                        0x0000000104978040 chromedriver + 213056\n7   chromedriver                        0x0000000104988144 chromedriver + 278852\n8   chromedriver                        0x000000010496c0a0 chromedriver + 164000\n9   chromedriver                        0x0000000104987dcc chromedriver + 277964\n10  chromedriver                        0x00000001049e938c chromedriver + 676748\n11  chromedriver                        0x00000001049aab10 chromedriver + 420624\n12  chromedriver                        0x00000001049abc30 chromedriver + 425008\n13  chromedriver                        0x0000000104d04ae4 chromedriver + 3934948\n14  chromedriver                        0x0000000104d07f24 chromedriver + 3948324\n15  chromedriver                        0x0000000104d08508 chromedriver + 3949832\n16  chromedriver                        0x0000000104d0eb30 chromedriver + 3975984\n17  chromedriver                        0x0000000104d08b24 chromedriver + 3951396\n18  chromedriver                        0x0000000104ce371c chromedriver + 3798812\n19  chromedriver                        0x0000000104d252f0 chromedriver + 4068080\n20  chromedriver                        0x0000000104d25444 chromedriver + 4068420\n21  chromedriver                        0x0000000104d39450 chromedriver + 4150352\n22  libsystem_pthread.dylib             0x00000001a7ef026c _pthread_start + 148\n23  libsystem_pthread.dylib             0x00000001a7eeb08c thread_start + 8\n",
     "output_type": "error",
     "traceback": [
      "\u001b[0;31m---------------------------------------------------------------------------\u001b[0m",
      "\u001b[0;31mWebDriverException\u001b[0m                        Traceback (most recent call last)",
      "\u001b[0;32m/var/folders/7p/5vj3dnxj2ydc8qqjkz1njh0c0000gn/T/ipykernel_6621/175874365.py\u001b[0m in \u001b[0;36m<module>\u001b[0;34m\u001b[0m\n\u001b[1;32m      3\u001b[0m \u001b[0mdriver\u001b[0m \u001b[0;34m=\u001b[0m \u001b[0mwebdriver\u001b[0m\u001b[0;34m.\u001b[0m\u001b[0mChrome\u001b[0m\u001b[0;34m(\u001b[0m\u001b[0;34m)\u001b[0m\u001b[0;34m\u001b[0m\u001b[0;34m\u001b[0m\u001b[0m\n\u001b[1;32m      4\u001b[0m \u001b[0;31m#URL 얻기brew\u001b[0m\u001b[0;34m\u001b[0m\u001b[0;34m\u001b[0m\u001b[0m\n\u001b[0;32m----> 5\u001b[0;31m \u001b[0mdriver\u001b[0m\u001b[0;34m.\u001b[0m\u001b[0mget\u001b[0m\u001b[0;34m(\u001b[0m\u001b[0;34m\"https://www.genomeweb.com/elastic-search?search_phrase=distributor\"\u001b[0m\u001b[0;34m)\u001b[0m\u001b[0;34m\u001b[0m\u001b[0;34m\u001b[0m\u001b[0m\n\u001b[0m\u001b[1;32m      6\u001b[0m \u001b[0;34m\u001b[0m\u001b[0m\n\u001b[1;32m      7\u001b[0m \u001b[0;31m# 테스트테스트\u001b[0m\u001b[0;34m\u001b[0m\u001b[0;34m\u001b[0m\u001b[0m\n",
      "\u001b[0;32m~/opt/anaconda3/lib/python3.9/site-packages/selenium/webdriver/remote/webdriver.py\u001b[0m in \u001b[0;36mget\u001b[0;34m(self, url)\u001b[0m\n\u001b[1;32m    434\u001b[0m         \u001b[0mLoads\u001b[0m \u001b[0ma\u001b[0m \u001b[0mweb\u001b[0m \u001b[0mpage\u001b[0m \u001b[0;32min\u001b[0m \u001b[0mthe\u001b[0m \u001b[0mcurrent\u001b[0m \u001b[0mbrowser\u001b[0m \u001b[0msession\u001b[0m\u001b[0;34m.\u001b[0m\u001b[0;34m\u001b[0m\u001b[0;34m\u001b[0m\u001b[0m\n\u001b[1;32m    435\u001b[0m         \"\"\"\n\u001b[0;32m--> 436\u001b[0;31m         \u001b[0mself\u001b[0m\u001b[0;34m.\u001b[0m\u001b[0mexecute\u001b[0m\u001b[0;34m(\u001b[0m\u001b[0mCommand\u001b[0m\u001b[0;34m.\u001b[0m\u001b[0mGET\u001b[0m\u001b[0;34m,\u001b[0m \u001b[0;34m{\u001b[0m\u001b[0;34m'url'\u001b[0m\u001b[0;34m:\u001b[0m \u001b[0murl\u001b[0m\u001b[0;34m}\u001b[0m\u001b[0;34m)\u001b[0m\u001b[0;34m\u001b[0m\u001b[0;34m\u001b[0m\u001b[0m\n\u001b[0m\u001b[1;32m    437\u001b[0m \u001b[0;34m\u001b[0m\u001b[0m\n\u001b[1;32m    438\u001b[0m     \u001b[0;34m@\u001b[0m\u001b[0mproperty\u001b[0m\u001b[0;34m\u001b[0m\u001b[0;34m\u001b[0m\u001b[0m\n",
      "\u001b[0;32m~/opt/anaconda3/lib/python3.9/site-packages/selenium/webdriver/remote/webdriver.py\u001b[0m in \u001b[0;36mexecute\u001b[0;34m(self, driver_command, params)\u001b[0m\n\u001b[1;32m    422\u001b[0m         \u001b[0mresponse\u001b[0m \u001b[0;34m=\u001b[0m \u001b[0mself\u001b[0m\u001b[0;34m.\u001b[0m\u001b[0mcommand_executor\u001b[0m\u001b[0;34m.\u001b[0m\u001b[0mexecute\u001b[0m\u001b[0;34m(\u001b[0m\u001b[0mdriver_command\u001b[0m\u001b[0;34m,\u001b[0m \u001b[0mparams\u001b[0m\u001b[0;34m)\u001b[0m\u001b[0;34m\u001b[0m\u001b[0;34m\u001b[0m\u001b[0m\n\u001b[1;32m    423\u001b[0m         \u001b[0;32mif\u001b[0m \u001b[0mresponse\u001b[0m\u001b[0;34m:\u001b[0m\u001b[0;34m\u001b[0m\u001b[0;34m\u001b[0m\u001b[0m\n\u001b[0;32m--> 424\u001b[0;31m             \u001b[0mself\u001b[0m\u001b[0;34m.\u001b[0m\u001b[0merror_handler\u001b[0m\u001b[0;34m.\u001b[0m\u001b[0mcheck_response\u001b[0m\u001b[0;34m(\u001b[0m\u001b[0mresponse\u001b[0m\u001b[0;34m)\u001b[0m\u001b[0;34m\u001b[0m\u001b[0;34m\u001b[0m\u001b[0m\n\u001b[0m\u001b[1;32m    425\u001b[0m             response['value'] = self._unwrap_value(\n\u001b[1;32m    426\u001b[0m                 response.get('value', None))\n",
      "\u001b[0;32m~/opt/anaconda3/lib/python3.9/site-packages/selenium/webdriver/remote/errorhandler.py\u001b[0m in \u001b[0;36mcheck_response\u001b[0;34m(self, response)\u001b[0m\n\u001b[1;32m    245\u001b[0m                 \u001b[0malert_text\u001b[0m \u001b[0;34m=\u001b[0m \u001b[0mvalue\u001b[0m\u001b[0;34m[\u001b[0m\u001b[0;34m'alert'\u001b[0m\u001b[0;34m]\u001b[0m\u001b[0;34m.\u001b[0m\u001b[0mget\u001b[0m\u001b[0;34m(\u001b[0m\u001b[0;34m'text'\u001b[0m\u001b[0;34m)\u001b[0m\u001b[0;34m\u001b[0m\u001b[0;34m\u001b[0m\u001b[0m\n\u001b[1;32m    246\u001b[0m             \u001b[0;32mraise\u001b[0m \u001b[0mexception_class\u001b[0m\u001b[0;34m(\u001b[0m\u001b[0mmessage\u001b[0m\u001b[0;34m,\u001b[0m \u001b[0mscreen\u001b[0m\u001b[0;34m,\u001b[0m \u001b[0mstacktrace\u001b[0m\u001b[0;34m,\u001b[0m \u001b[0malert_text\u001b[0m\u001b[0;34m)\u001b[0m  \u001b[0;31m# type: ignore[call-arg]  # mypy is not smart enough here\u001b[0m\u001b[0;34m\u001b[0m\u001b[0;34m\u001b[0m\u001b[0m\n\u001b[0;32m--> 247\u001b[0;31m         \u001b[0;32mraise\u001b[0m \u001b[0mexception_class\u001b[0m\u001b[0;34m(\u001b[0m\u001b[0mmessage\u001b[0m\u001b[0;34m,\u001b[0m \u001b[0mscreen\u001b[0m\u001b[0;34m,\u001b[0m \u001b[0mstacktrace\u001b[0m\u001b[0;34m)\u001b[0m\u001b[0;34m\u001b[0m\u001b[0;34m\u001b[0m\u001b[0m\n\u001b[0m\u001b[1;32m    248\u001b[0m \u001b[0;34m\u001b[0m\u001b[0m\n\u001b[1;32m    249\u001b[0m     \u001b[0;32mdef\u001b[0m \u001b[0m_value_or_default\u001b[0m\u001b[0;34m(\u001b[0m\u001b[0mself\u001b[0m\u001b[0;34m,\u001b[0m \u001b[0mobj\u001b[0m\u001b[0;34m:\u001b[0m \u001b[0mMapping\u001b[0m\u001b[0;34m[\u001b[0m\u001b[0m_KT\u001b[0m\u001b[0;34m,\u001b[0m \u001b[0m_VT\u001b[0m\u001b[0;34m]\u001b[0m\u001b[0;34m,\u001b[0m \u001b[0mkey\u001b[0m\u001b[0;34m:\u001b[0m \u001b[0m_KT\u001b[0m\u001b[0;34m,\u001b[0m \u001b[0mdefault\u001b[0m\u001b[0;34m:\u001b[0m \u001b[0m_VT\u001b[0m\u001b[0;34m)\u001b[0m \u001b[0;34m->\u001b[0m \u001b[0m_VT\u001b[0m\u001b[0;34m:\u001b[0m\u001b[0;34m\u001b[0m\u001b[0;34m\u001b[0m\u001b[0m\n",
      "\u001b[0;31mWebDriverException\u001b[0m: Message: unknown error: cannot determine loading status\nfrom target frame detached\n  (Session info: chrome=107.0.5304.87)\nStacktrace:\n0   chromedriver                        0x0000000104d32a88 chromedriver + 4123272\n1   chromedriver                        0x0000000104cbe778 chromedriver + 3647352\n2   chromedriver                        0x0000000104980944 chromedriver + 248132\n3   chromedriver                        0x000000010496c764 chromedriver + 165732\n4   chromedriver                        0x000000010496b84c chromedriver + 161868\n5   chromedriver                        0x000000010496bcf0 chromedriver + 163056\n6   chromedriver                        0x0000000104978040 chromedriver + 213056\n7   chromedriver                        0x0000000104988144 chromedriver + 278852\n8   chromedriver                        0x000000010496c0a0 chromedriver + 164000\n9   chromedriver                        0x0000000104987dcc chromedriver + 277964\n10  chromedriver                        0x00000001049e938c chromedriver + 676748\n11  chromedriver                        0x00000001049aab10 chromedriver + 420624\n12  chromedriver                        0x00000001049abc30 chromedriver + 425008\n13  chromedriver                        0x0000000104d04ae4 chromedriver + 3934948\n14  chromedriver                        0x0000000104d07f24 chromedriver + 3948324\n15  chromedriver                        0x0000000104d08508 chromedriver + 3949832\n16  chromedriver                        0x0000000104d0eb30 chromedriver + 3975984\n17  chromedriver                        0x0000000104d08b24 chromedriver + 3951396\n18  chromedriver                        0x0000000104ce371c chromedriver + 3798812\n19  chromedriver                        0x0000000104d252f0 chromedriver + 4068080\n20  chromedriver                        0x0000000104d25444 chromedriver + 4068420\n21  chromedriver                        0x0000000104d39450 chromedriver + 4150352\n22  libsystem_pthread.dylib             0x00000001a7ef026c _pthread_start + 148\n23  libsystem_pthread.dylib             0x00000001a7eeb08c thread_start + 8\n"
     ]
    }
   ],
   "source": [
    "from selenium import webdriver\n",
    "#드라이버 초기화\n",
    "driver = webdriver.Chrome()\n",
    "#URL 얻기brew\n",
    "driver.get(\"https://www.genomeweb.com/elastic-search?search_phrase=distributor\")\n",
    "\n",
    "# 테스트테스트"
   ]
  }
 ],
 "metadata": {
  "interpreter": {
   "hash": "a37f353885e523dbd65d50502fa910c6a087bcdad810cd18786c34017bd1262f"
  },
  "kernelspec": {
   "display_name": "Python 3.9.7 ('base')",
   "language": "python",
   "name": "python3"
  },
  "language_info": {
   "codemirror_mode": {
    "name": "ipython",
    "version": 3
   },
   "file_extension": ".py",
   "mimetype": "text/x-python",
   "name": "python",
   "nbconvert_exporter": "python",
   "pygments_lexer": "ipython3",
   "version": "3.9.7"
  },
  "orig_nbformat": 4
 },
 "nbformat": 4,
 "nbformat_minor": 2
}
